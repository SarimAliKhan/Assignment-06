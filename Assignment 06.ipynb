{
 "cells": [
  {
   "cell_type": "code",
   "execution_count": 1,
   "metadata": {},
   "outputs": [],
   "source": [
    "#Q1\n",
    "\n",
    "#Object-oriented programming is a programming paradigm based on the concept of \"objects\", which can contain data, in the form of fields, and code, in the form of procedures"
   ]
  },
  {
   "cell_type": "code",
   "execution_count": 2,
   "metadata": {},
   "outputs": [],
   "source": [
    "#Q2\n",
    "\n",
    "#1. Simplicity: software objects model real world objects, so the complexity is reduced and the program structure is very clear; \n",
    "#2. Modularity: each object forms a separate entity whose internal workings are decoupled from other parts of the system; \n",
    "#3. Modifiability: it is easy to make minor changes in the data representation or the procedures in an OO program. Changes inside a class do not affect any other part of a program, since the only public interface that the external world has to a class is through the use of methods; \n",
    "#4. Extensibility: adding new features or responding to changing operating environments can be solved by introducing a few new objects and modifying some existing ones; \n",
    "#5. Maintainability: objects can be maintained separately, making locating and fixing problems easier; \n",
    "#6. Re-usability: objects can be reused in different programs"
   ]
  },
  {
   "cell_type": "code",
   "execution_count": 3,
   "metadata": {},
   "outputs": [],
   "source": [
    "#Q3\n",
    "\n",
    "#A method is on an object.\n",
    "#A function is independent of an object. "
   ]
  },
  {
   "cell_type": "code",
   "execution_count": 4,
   "metadata": {},
   "outputs": [],
   "source": [
    "#Q4\n",
    "\n",
    "#class:\n",
    "#a class describes the contents of the objects that belong to it: it describes an aggregate of data fields (called instance variables), and defines the operations (called methods). \n",
    "#object:\n",
    "#an object is an element (or instance) of a class; objects have the behaviors of their class. The object is the actual component of programs, while the class specifies how instances are created and how they behave\n",
    "#attributes:\n",
    "#the properties o a class\n",
    "#behaviour:\n",
    "#the methods class will access"
   ]
  },
  {
   "cell_type": "code",
   "execution_count": 6,
   "metadata": {},
   "outputs": [
    {
     "name": "stdout",
     "output_type": "stream",
     "text": [
      "brown colour car is accelerating\n",
      "corolla is starting\n",
      "brakes are being applied to xli\n",
      "black colour car is accelerating\n",
      "civic is starting\n"
     ]
    }
   ],
   "source": [
    "#Q5\n",
    "class Car:\n",
    "    def __init__(self,model,colour,name):\n",
    "        self.model = model\n",
    "        self.colour = colour\n",
    "        self.name = name\n",
    "    def start(self):\n",
    "        print(\"{} is starting\".format(self.name))\n",
    "        \n",
    "    def accelerate(self):\n",
    "        print(\"{} colour car is accelerating\".format(self.colour))\n",
    "        \n",
    "    def brake(self):\n",
    "        print(\"brakes are being applied to {}\".format(self.model))\n",
    "        \n",
    "c = Car('xli','brown','corolla')\n",
    "c.accelerate()\n",
    "c.start()\n",
    "c.brake()\n",
    "b = Car('hvtec','black','civic')\n",
    "b.accelerate()\n",
    "b.start()"
   ]
  },
  {
   "cell_type": "code",
   "execution_count": null,
   "metadata": {},
   "outputs": [],
   "source": []
  }
 ],
 "metadata": {
  "kernelspec": {
   "display_name": "Python 3",
   "language": "python",
   "name": "python3"
  },
  "language_info": {
   "codemirror_mode": {
    "name": "ipython",
    "version": 3
   },
   "file_extension": ".py",
   "mimetype": "text/x-python",
   "name": "python",
   "nbconvert_exporter": "python",
   "pygments_lexer": "ipython3",
   "version": "3.7.0"
  }
 },
 "nbformat": 4,
 "nbformat_minor": 2
}
